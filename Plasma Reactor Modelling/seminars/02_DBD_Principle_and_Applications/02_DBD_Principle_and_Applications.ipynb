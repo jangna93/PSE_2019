{
 "cells": [
  {
   "cell_type": "markdown",
   "metadata": {},
   "source": [
    "## Dielectric-Barrier Discharges. Principle and Applications"
   ]
  },
  {
   "cell_type": "markdown",
   "metadata": {},
   "source": [
    "### 1. Abstract"
   ]
  },
  {
   "cell_type": "markdown",
   "metadata": {},
   "source": [
    "- Dielectric-barrier discharges are non-equilibrium discharges that can be conveniently operated over a wide temperature and pressure range. \n",
    "<br>\n",
    "- At about atmospheric pressure electrical breakdown occurs in many independent thin current filaments. \n",
    "<br>\n",
    "- These short-lived microdischarges have properties of transient high pressure glow discharges \n",
    "<br>with electron energies ideally suited for exciting or dissociating background gas atoms and molecules."
   ]
  },
  {
   "cell_type": "markdown",
   "metadata": {},
   "source": [
    "- **DBD 방전현상**은 **비평형 방전**이고, **넓은 범위의 온도와 압력**에서 사용가능하다.\n",
    "- 대기압에서의 전기적 **항복현상**은 **thin current filaments에 무관**하게 발생한다.\n",
    "- 이러한 항복현상 즉, 짧은 시간의 **미세방전**들은 일시적인 고압의 **'glow 방전(저압 가스 플라즈마, 색상을 띔)'**이라는 특성을 가진다.\n",
    "- 이 **'glow 방전'**은 가스 원자나 분자를 **'여기상태'로 만드는데 적합한 전자에너지**를 가진다.\n",
    "- 이들은 많은 산업에 적용될 가능성이 있다."
   ]
  },
  {
   "cell_type": "markdown",
   "metadata": {},
   "source": [
    "### 2. 본문"
   ]
  },
  {
   "cell_type": "markdown",
   "metadata": {},
   "source": [
    "#### 1. DISCHARGE STRUCTURE AND MICRODISCHARGE PROPERTIES\n",
    "방전 구조와 미세방전의 특성"
   ]
  },
  {
   "cell_type": "markdown",
   "metadata": {},
   "source": [
    "- Dielectric-barrier discharges are characterized by the presence of one or more insulating layers \n",
    "<br>in the current path between metal electrodes in addition to the discharge space. \n",
    "<br>\n",
    "- Gas spaces bounded by one or two dielectrics have practically the same breakdown voltage as if they were between metal electrodes. \n",
    "- Different planar or cylindrical configurations are common"
   ]
  },
  {
   "cell_type": "markdown",
   "metadata": {},
   "source": [
    "- DBD는 금속 **전극 사이의 전류 경로(방전 공간)**에 하나 이상의 **절연 층**이 존재하는 것이 특징이다.\n",
    "- 하나 또는 두 개의 **유전체에 의해 구획된 가스 공간**은, **금속 전극 사이와 같은 항복 전압**을 가지고 있다.\n",
    "- 평면 또는 원통형 구성이 서로 다르다"
   ]
  },
  {
   "cell_type": "markdown",
   "metadata": {},
   "source": [
    "<br>\n",
    "\n",
    "$$<평면형\\ DBD\\ vs\\ 원통형\\ DBD>$$"
   ]
  },
  {
   "cell_type": "markdown",
   "metadata": {},
   "source": [
    "<img src=\".\\02_Fig\\1.png\" \"width=700\" />"
   ]
  },
  {
   "cell_type": "markdown",
   "metadata": {},
   "source": [
    " "
   ]
  },
  {
   "cell_type": "markdown",
   "metadata": {},
   "source": [
    "#### 1.1 Microdischarge Properties\n",
    "미세방전의 특성"
   ]
  },
  {
   "cell_type": "markdown",
   "metadata": {},
   "source": [
    "<br>\n",
    "[핵심 특성]"
   ]
  },
  {
   "cell_type": "markdown",
   "metadata": {},
   "source": [
    "- High voltage low frequency operation tends to spread the microdischarges\n",
    "   <br>while low voltage high frequency operation tends to reignite the old microdischarge channels every half period. \n",
    "   <br> \n",
    "   \n",
    "   **고전압 저주파수** 조건은 **미세방전을 확산**시키는 경향이 있다.\n",
    "   <br> **저전압 고주파수** 조건은 **기존의 미세방전 채널**(영역)을 **재활성화** 시키는 경향이 있다. \n",
    "<br>\n",
    "\n"
   ]
  },
  {
   "cell_type": "markdown",
   "metadata": {},
   "source": [
    "<br>\n",
    "$$(관련\\ 논문\\ 내용)$$\n",
    "- Due to charge build up on the dielectric, the field at the location of a microdischarge is reduced within a few ns after breakdown. thus terminating the current flow at this location.\n",
    "- As long as the external voltage is rising additional microdischarges will occur at new positions because the presence of residual charges on the dielectric has reduced the electric fields at positions where microdischarges have already occurred. \n",
    "  <br>So, high voltage low frequency operation tends to spread the microdischarges, When the voltage is reversed, the next microdischarges will form in the old microdischarge locations.\n",
    "\n",
    "  <br>\n",
    "\n",
    "   항복현상 발생 이후, 전하가 유전체에 'build up' 함으로써 미세방전 영역은 금방 줄어든다.\n",
    "  <br>\n",
    "  <br> 즉, 유전체의 **잔류 전하가 전기장을 방해한다.** (전기장 방향의 역방향으로 영향)\n",
    "  <br> 이는 기존 미세방전 영역을 감소시킨다. (전류 흐름이 사라진다)\n",
    "\n",
    "  <br>따라서, 전압을 증가시킬수록 새로운 위치에서 추가 미세방전이 발생할 것이다. 이는 미세방전의 확산을 야기한다. \n",
    "  <br>그러나 전압이 역전되면(전기장 방향 역전) 이전의 마이크로 방전 위치에 마이크로 전하가 재형성된다. (잔류 전하의 영향)\n",
    "\n",
    "<br>    \n",
    "$$(요약)$$\n",
    "<br>$$전압 : 증가 \\rightarrow 미세방전\\ 확산$$\n",
    "<br>$$주파수 : 증가 \\rightarrow 전기장\\ 방향\\ 역전수\\ 증가 (기존\\ 방전영역\\ 재활성화)$$"
   ]
  },
  {
   "cell_type": "markdown",
   "metadata": {},
   "source": [
    "<br>\n",
    "[유전체 장벽의 영향]"
   ]
  },
  {
   "cell_type": "markdown",
   "metadata": {},
   "source": [
    "$$(관련\\ 논문\\ 내용)$$\n",
    "- The dielectric barrier limits the amount of charge and energy deposited in a microdischarge \n",
    "- The dielectric barrier distributes the microdischarges over the entire electrode surface."
   ]
  },
  {
   "cell_type": "markdown",
   "metadata": {},
   "source": [
    "- 유전체 장벽은 다음의 요소들을 제한한다.\n",
    "<br>: 미세방전에서의 전하의 양과 축적된 에너지\n",
    "- 유전체 장벽은 전극 표면의 전반적인 부분에 미세방전을 분배한다."
   ]
  },
  {
   "cell_type": "markdown",
   "metadata": {},
   "source": [
    "<br>\n",
    "[미세방전과 무관한 요소]"
   ]
  },
  {
   "cell_type": "markdown",
   "metadata": {},
   "source": [
    "1. Current filaments\n",
    "2. Microdischarges "
   ]
  },
  {
   "cell_type": "markdown",
   "metadata": {},
   "source": [
    "$$(관련\\ 논문\\ 내용)$$\n",
    "- DBDs is that in most gases at about atmospheric pressure breakdown is initiated in a large number of independent current filaments or microdischarges.\n",
    "  <br>\n",
    "  <br>대기압에서 항복현상을 나타내는 'DBD(in most gases)'는 다음에 무관하게 발생한다 \n",
    "  <br>: Current filaments, Microdischarges"
   ]
  },
  {
   "cell_type": "markdown",
   "metadata": {},
   "source": [
    "<br>\n",
    "[운반 전하]\n",
    "\n",
    "- The transported charge is proportional to the gap spacing and the permittivity of the dielectric but does not depend on pressure.\n",
    "  <br>\n",
    "  <br>운반 전하는 다음에 비례한다. (압력에는 무관)\n",
    "  <br>: 공간의 gap, 유전체의 유전율"
   ]
  },
  {
   "cell_type": "markdown",
   "metadata": {},
   "source": [
    "1. 미세방전에서의 전하의 양\n",
    "2. 미세방전에서의 축적 에너지"
   ]
  },
  {
   "cell_type": "markdown",
   "metadata": {},
   "source": [
    "<br>\n",
    "#### 1.2 Overall Discharge Characteristics\n",
    "전체적인 방전 특성"
   ]
  },
  {
   "cell_type": "markdown",
   "metadata": {},
   "source": [
    "<br>\n",
    "[방전 매커니즘]"
   ]
  },
  {
   "cell_type": "markdown",
   "metadata": {},
   "source": [
    "<br>\n",
    "$$<Capacitor>$$"
   ]
  },
  {
   "cell_type": "markdown",
   "metadata": {},
   "source": [
    "<img src=\".\\02_Fig\\2.png\" \"width=400\" />"
   ]
  },
  {
   "cell_type": "markdown",
   "metadata": {},
   "source": [
    "<br>\n",
    "- Suppose we apply a sinusoidal voltage. Initially, without discharge, the total capacitance $C_{tot}$ is charged with rising voltage. \n",
    "  <br>When the breakdown voltage of the gas space is reached microdischarges occur that start to charge the capacitance of the dielectric $C_D$\n",
    "  <br>while the discharge voltage $U_{Dis}$, the average voltage across the gas space, remains constant\n",
    "<br>\n",
    "\n",
    "\n",
    "- This stops when the maximum of the voltage $\\hat{U}$ is reached and the reverse situation occurs in the second half wave."
   ]
  },
  {
   "cell_type": "markdown",
   "metadata": {},
   "source": [
    "- sin형태의 전압을 적용했다고 치자. 방전이 일어나지 않는 초반부에는 전압이 증가할수록 **총 커패시턴스$(C_{tot})$**가 충전된다.\n",
    "  <br>항복전압에 도달하면 절연영역인 기체공간에서 미세방전이 발생한다. 따라서, **일정한 방전 전압($U_{Dis}$, 기체공간을 가로지르는 평균 전압)**을 유지한다.\n",
    "  <br>이 미세방전이 **유전체의 커패시턴스$(C_D)$**를 충전시킨다.\n",
    "<br>\n",
    "\n",
    "\n",
    "- 이러한 과정은 **전압$( \\hat U )$이 sin함수의 극대점**에 도달했을때 중단되고, 후반기 파장에서 역으로 발생한다."
   ]
  },
  {
   "cell_type": "markdown",
   "metadata": {},
   "source": [
    "<br>\n",
    "$$<DBD>$$"
   ]
  },
  {
   "cell_type": "markdown",
   "metadata": {},
   "source": [
    "<img src=\".\\02_Fig\\3.png\" \"width=200\" />"
   ]
  },
  {
   "cell_type": "markdown",
   "metadata": {},
   "source": [
    "<br>\n",
    "[The voltage / charge Lissajous figure]"
   ]
  },
  {
   "cell_type": "markdown",
   "metadata": {},
   "source": [
    "앞선 매커니즘에서의 전기적 파라미터들을 'The voltage / charge Lissajous figure'으로 구할 수 있다."
   ]
  },
  {
   "cell_type": "markdown",
   "metadata": {},
   "source": [
    "- In many DBD applications the voltage/charge Lissajous figure is an almost ideal parallelogram\n",
    "  <br>대부분의 DBD application에서, 다음 그래프는 거의 이상적이라고 할 수 있다."
   ]
  },
  {
   "cell_type": "markdown",
   "metadata": {},
   "source": [
    "<br>\n",
    "$$<voltage\\ /\\ charge\\ Lissajous\\ figure>$$"
   ]
  },
  {
   "cell_type": "markdown",
   "metadata": {},
   "source": [
    "<img src=\".\\02_Fig\\4.png\" \"width=700\" />"
   ]
  },
  {
   "cell_type": "markdown",
   "metadata": {},
   "source": [
    "<br>\n",
    "- From the slopes the effective capacitances $C_{tot}$ and $C_D$ can be derived\n",
    "- From the slopes $U_{Min}$ and $\\hat U$ can be immediately determined. \n",
    "- The form of the voltage/charge Lissajous figure is independent of the form of the applied voltage as long as the notion of a constant discharge voltage holds."
   ]
  },
  {
   "cell_type": "markdown",
   "metadata": {},
   "source": [
    "- slopes로부터 유효 캐패시턴스 $C_{tot}$와 $C_D$를 도출할 수 있다.\n",
    "- slopes로부터 $U_{Min}$과 $\\hat U$를 즉시 결정할 수 있다.\n",
    "- The form of the voltage/charge Lissajous figure은 적용시키는 전압의 형태와는 무관하다.\n",
    "  <br> : 방전 전압이 일정한 경우에 한함."
   ]
  },
  {
   "cell_type": "markdown",
   "metadata": {},
   "source": [
    "<br>\n",
    "[Manley's power formula]"
   ]
  },
  {
   "cell_type": "markdown",
   "metadata": {},
   "source": [
    "- From voltage/charge diagrams Manley in 1943 [24] derived the power formula for ozonizers which applies to many DBDs.\n",
    "  <br> 1943년 앞서 언급한 전압/충전 diagrams로부터, Manley는 많은 DBD에 적용되는 전력 공식을 도출했다. (for ozonizers)\n"
   ]
  },
  {
   "cell_type": "markdown",
   "metadata": {},
   "source": [
    "According to Manley the total power is given by: \n",
    "<br>\n",
    "\n",
    "\n",
    "$$P=4\\ f\\ C_D\\ U_{Dis}\\{\\hat U - C_D^{-1}(C_D+C_g)U_{Dis}\\},\\ \\ \\ \\hat U \\geq C_D^{-1}(C_D+C_g)U_{Dis}$$"
   ]
  },
  {
   "cell_type": "markdown",
   "metadata": {},
   "source": [
    "- f : frequency\n",
    "- $C_g$ : the capacitance of the discharge gap\n",
    "\n",
    "\n",
    "<br>\n",
    "\n",
    "\n",
    "<br>\n",
    "\n",
    "\n",
    "가상의 방전 전압 $U_{Dis}$는 직접 측정할 수 없으므로, 전력 P를 측정 가능한 양으로 표현할 필요가 있다."
   ]
  },
  {
   "cell_type": "markdown",
   "metadata": {},
   "source": [
    "$$P=4\\ f\\ {C_D}^2\\ (C_D + C_g)^{-1}\\ U_{Min}\\ (\\hat U - U_{Min}),\\ \\ \\  \\hat U \\geq U_{Min}$$"
   ]
  },
  {
   "cell_type": "markdown",
   "metadata": {},
   "source": [
    "- $U_{Min}$ : discharge를 유지하는데 필요한 최소 외부 전압\n",
    "\n",
    "\n",
    "<br>\n",
    "\n",
    "\n",
    "<br>\n",
    "\n",
    "따라서, 방전 전압은 다음과 같이 나타낼 수 있다.\n",
    "\n",
    "$$ U_{Dis}=C_D\\ (C_D + C_g)^{-1} U_{Min}$$"
   ]
  },
  {
   "cell_type": "markdown",
   "metadata": {},
   "source": [
    "<br>\n",
    "[결론]"
   ]
  },
  {
   "cell_type": "markdown",
   "metadata": {},
   "source": [
    "전원 공급에 따른 방전 거동을 예측한다.\n",
    "\n",
    "<br>\n",
    "- The applied voltage/charge Lissajous figure and corresponding gap voltage/current presentations are very useful instruments \n",
    "  <br>for characterising the discharge behavior and designing power supplies and matching circuits.\n",
    "  \n",
    "  <br> 적용된 전압/충전 Lissajous figure와 해당하는 gap 전압/전류의 presentations는 \n",
    "  <br>**방전 거동의 특성화**와 **전원 공급장치 및 matching 회로**를 설계하는 데 매우 유용한 도구들이다.\n"
   ]
  },
  {
   "cell_type": "markdown",
   "metadata": {},
   "source": [
    "<br>\n",
    "#### 2. MODELLING DIELECTRIC-BARRIER DISCHARGES"
   ]
  },
  {
   "cell_type": "markdown",
   "metadata": {},
   "source": [
    "#### 2.1 Modelling of the Reaction Kinetics\n",
    "반응 속도론적 모델링"
   ]
  },
  {
   "cell_type": "markdown",
   "metadata": {},
   "source": [
    "[모델링 과정]"
   ]
  },
  {
   "cell_type": "markdown",
   "metadata": {},
   "source": [
    "\n",
    "1. For a rough determination of the different time constants involved it is often convenient to disregard spatial gradients in the beginning and treat a homogeneous plasma as a first step. \n",
    "\n",
    "  <br> 관련된 다른 시간 상수의 대략적인 결정을 위해, 다음 두 가지를 따르는 것이 편하다.\n",
    "  1. 공간 gradients를 무시 (in the beginning)  \n",
    "  2. treat a homogeneous plasma (as a first step)"
   ]
  },
  {
   "cell_type": "markdown",
   "metadata": {},
   "source": [
    "2. To simulate the action of a short-lived microdischarge either a short high voltage pulse is applied [10, 12] or an electron beam is injected [27, 28].\n",
    "   <br>In both cases it is necessary to derive the rate coefficients for electron impact collisions in the gas mixture under consideration by solving the Boltzmann equation. \n",
    "\n",
    " 단시간 마이크로 방전 작동을 시뮬레이션하기 위해 짧은 고전압 펄스를 적용하거나 [10, 12] 전자 빔을 주입한다 [27, 28]. \n",
    " <br>두 경우 모두 **볼츠만 방정식을 해결**함으로써, **가스 혼합물에서의 electron impact collisions에 관한 속도 상수를 도출**할 필요가 있다. "
   ]
  },
  {
   "cell_type": "markdown",
   "metadata": {},
   "source": [
    "3. For DBD calculations the local field approximation is normally used, assuming that the electron energy distribution is in equilibrium with the electric field and that all rate coefficients can be tabulated as a sole function of the mean electron energy or the reduced field E/n.\n",
    "\n",
    "   DBD 계산의 경우, 일반적으로 local field 근사를 사용한다. \n",
    "   <br>이에 대한 가정은 다음과 같다.\n",
    "   \n",
    "   <br>\n",
    "   1. 전자 에너지 분포와 전기장은 평형이다.\n",
    "   2. 모든 속도 상수를 단일 함수로서 표로 작성할 수 있다.\n",
    "     - 단일 함수 : 평균 전자 에너지 or 감소된 전기장 E/n 에 관한 함수."
   ]
  },
  {
   "cell_type": "markdown",
   "metadata": {},
   "source": [
    "<br>\n",
    "[가정의 타당성]"
   ]
  },
  {
   "cell_type": "markdown",
   "metadata": {},
   "source": [
    "이러한 가정들은 다소 조잡해 보이지만, 오존 발생기의 최적화에 성공적으로 사용되어 왔다. 이 성공의 물리적인 이유는 다음과 같다.\n",
    "\n",
    "<br>\n",
    "\n",
    "1. 볼츠만 방정식의 활용에 대한 타당성\n",
    "\n",
    "  - At atmospheric pressure electrons accelerated in the electric field perform so many collisions with the background gas that they approach equilibrium values within about 10 ps. Appreciable voltage changes and corresponding electric field changes are much slower, typically in the ns range. So, in many cases it is justified to work with stationary solutions of the Boltzmann equation.\n",
    "  \n",
    "    <br> 대기압 조건의 전기장에서 가속되는 전자는, background 가스와 매우 많은 충돌을 일으킨다. \n",
    "    <br> 따라서, 약 **10 ps 이내의 평형값에 접근**한다. \n",
    "    <br> 또한, 유의미한 **전압 변화와, 이에 따른 전기장 변화는 일반적으로 ns range로 훨씬 느리다.** \n",
    "    <br> 따라서, 많은 경우 볼츠만 방정식의 고정 솔루션을 사용하는 것이 정당하다. \n",
    "    \n",
    "<br>    \n",
    "    \n",
    "2. microdischarge filament 시뮬레이션을 통한 근사의 타당성\n",
    "\n",
    "  - Excitation and dissociation by electron collision are again extremely fast processes followed by free radical reactions that occur at an intermediate time scale, typically 1 to 100 ps at atmospheric pressure. Most free radical reactions will therefore be completed before any substantial displacement of the involved species by diffusion or convection can take place. These processes take much longer and occur at ms time scales. So, in many cases where the final product is formed essentially by free radical reactions, simulating what happens within the microdischarge filament can give already a fairly good approximation. \n",
    "  \n",
    "    <br>대부분의 라디칼 반응(1 to 100 ps)은 확산이나 대류에 의한 관련 종들의 실질적인 변화(ms time scales)가 일어나기 전에 완성될 것이다. \n",
    "    <br>따라서, 최종 제품이 기본적으로 자유 라디칼  반응에  의해 형성되는  경우, 좋은 근사치를 제공할 수 있다."
   ]
  }
 ],
 "metadata": {
  "kernelspec": {
   "display_name": "Python 3",
   "language": "python",
   "name": "python3"
  },
  "language_info": {
   "codemirror_mode": {
    "name": "ipython",
    "version": 3
   },
   "file_extension": ".py",
   "mimetype": "text/x-python",
   "name": "python",
   "nbconvert_exporter": "python",
   "pygments_lexer": "ipython3",
   "version": "3.6.5"
  }
 },
 "nbformat": 4,
 "nbformat_minor": 2
}
